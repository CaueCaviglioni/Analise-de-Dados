{
 "cells": [
  {
   "cell_type": "markdown",
   "id": "sought-complex",
   "metadata": {},
   "source": [
    "# Bibliotecas"
   ]
  },
  {
   "cell_type": "code",
   "execution_count": 380,
   "id": "extensive-session",
   "metadata": {},
   "outputs": [],
   "source": [
    "# Bibliotecas para análise de dados\n",
    "import pandas as pd\n",
    "\n",
    "# Bibliotecas de visualização de dados\n",
    "import plotly.express as px\n",
    "import seaborn as sns\n",
    "import matplotlib.pyplot as plt\n",
    "\n",
    "# Bibliotecas para salvar gráficos interativos\n",
    "import chart_studio\n",
    "import chart_studio.plotly as py"
   ]
  },
  {
   "cell_type": "code",
   "execution_count": 381,
   "id": "rising-spelling",
   "metadata": {},
   "outputs": [],
   "source": [
    "# Loga minha conta para que seja possível salvar os gráficos interativos\n",
    "username = 'CaueCaviglioni'\n",
    "api_key = 'HAbI3JmHiHRrCCZA7QG0'\n",
    "chart_studio.tools.set_credentials_file(username = username, api_key = api_key)"
   ]
  },
  {
   "cell_type": "markdown",
   "id": "voluntary-politics",
   "metadata": {},
   "source": [
    "# 1. Inicialização da análise"
   ]
  },
  {
   "cell_type": "code",
   "execution_count": 335,
   "id": "institutional-prize",
   "metadata": {},
   "outputs": [],
   "source": [
    "# Leitura do arquivo csv\n",
    "df = pd.read_csv(r'C:\\Users\\cauec\\OneDrive\\Área de Trabalho\\quotas.csv')"
   ]
  },
  {
   "cell_type": "code",
   "execution_count": 336,
   "id": "removed-heaven",
   "metadata": {},
   "outputs": [
    {
     "data": {
      "text/html": [
       "<div>\n",
       "<style scoped>\n",
       "    .dataframe tbody tr th:only-of-type {\n",
       "        vertical-align: middle;\n",
       "    }\n",
       "\n",
       "    .dataframe tbody tr th {\n",
       "        vertical-align: top;\n",
       "    }\n",
       "\n",
       "    .dataframe thead th {\n",
       "        text-align: right;\n",
       "    }\n",
       "</style>\n",
       "<table border=\"1\" class=\"dataframe\">\n",
       "  <thead>\n",
       "    <tr style=\"text-align: right;\">\n",
       "      <th></th>\n",
       "      <th>date</th>\n",
       "      <th>quota_value</th>\n",
       "      <th>net_worth</th>\n",
       "      <th>fund_name</th>\n",
       "      <th>fund_class</th>\n",
       "    </tr>\n",
       "  </thead>\n",
       "  <tbody>\n",
       "    <tr>\n",
       "      <th>0</th>\n",
       "      <td>8/31/2020</td>\n",
       "      <td>1.710898</td>\n",
       "      <td>2.173858e+08</td>\n",
       "      <td>Fundo 1</td>\n",
       "      <td>Fundo de Ações</td>\n",
       "    </tr>\n",
       "    <tr>\n",
       "      <th>1</th>\n",
       "      <td>8/31/2020</td>\n",
       "      <td>1.708746</td>\n",
       "      <td>1.848605e+08</td>\n",
       "      <td>Fundo 2</td>\n",
       "      <td>Fundo de Ações</td>\n",
       "    </tr>\n",
       "    <tr>\n",
       "      <th>2</th>\n",
       "      <td>8/31/2020</td>\n",
       "      <td>1.763618</td>\n",
       "      <td>5.398929e+09</td>\n",
       "      <td>Fundo 3</td>\n",
       "      <td>Fundo de Ações</td>\n",
       "    </tr>\n",
       "    <tr>\n",
       "      <th>3</th>\n",
       "      <td>8/31/2020</td>\n",
       "      <td>1.287330</td>\n",
       "      <td>2.975126e+07</td>\n",
       "      <td>Fundo 4</td>\n",
       "      <td>Fundo de Ações</td>\n",
       "    </tr>\n",
       "    <tr>\n",
       "      <th>4</th>\n",
       "      <td>8/31/2020</td>\n",
       "      <td>1.236828</td>\n",
       "      <td>9.534258e+07</td>\n",
       "      <td>Fundo 5</td>\n",
       "      <td>Fundo de Ações</td>\n",
       "    </tr>\n",
       "  </tbody>\n",
       "</table>\n",
       "</div>"
      ],
      "text/plain": [
       "        date  quota_value     net_worth fund_name      fund_class\n",
       "0  8/31/2020     1.710898  2.173858e+08   Fundo 1  Fundo de Ações\n",
       "1  8/31/2020     1.708746  1.848605e+08   Fundo 2  Fundo de Ações\n",
       "2  8/31/2020     1.763618  5.398929e+09   Fundo 3  Fundo de Ações\n",
       "3  8/31/2020     1.287330  2.975126e+07   Fundo 4  Fundo de Ações\n",
       "4  8/31/2020     1.236828  9.534258e+07   Fundo 5  Fundo de Ações"
      ]
     },
     "execution_count": 336,
     "metadata": {},
     "output_type": "execute_result"
    }
   ],
   "source": [
    "# Visualização do topo dos dados\n",
    "df.head()"
   ]
  },
  {
   "cell_type": "code",
   "execution_count": 337,
   "id": "respiratory-george",
   "metadata": {},
   "outputs": [
    {
     "name": "stdout",
     "output_type": "stream",
     "text": [
      "<class 'pandas.core.frame.DataFrame'>\n",
      "RangeIndex: 13417 entries, 0 to 13416\n",
      "Data columns (total 5 columns):\n",
      " #   Column       Non-Null Count  Dtype  \n",
      "---  ------       --------------  -----  \n",
      " 0   date         13417 non-null  object \n",
      " 1   quota_value  13417 non-null  float64\n",
      " 2   net_worth    13417 non-null  float64\n",
      " 3   fund_name    13417 non-null  object \n",
      " 4   fund_class   13417 non-null  object \n",
      "dtypes: float64(2), object(3)\n",
      "memory usage: 524.2+ KB\n"
     ]
    }
   ],
   "source": [
    "# Informações dos dados\n",
    "df.info()"
   ]
  },
  {
   "cell_type": "markdown",
   "id": "practical-kingdom",
   "metadata": {},
   "source": [
    "# 2. Tratamento dos dados"
   ]
  },
  {
   "cell_type": "markdown",
   "id": "powered-premiere",
   "metadata": {},
   "source": [
    "## 2.1. Retirar fundos que não são de ação"
   ]
  },
  {
   "cell_type": "code",
   "execution_count": 338,
   "id": "wrapped-baking",
   "metadata": {},
   "outputs": [
    {
     "data": {
      "text/plain": [
       "Fundo de Ações    5074\n",
       "Name: fund_class, dtype: int64"
      ]
     },
     "execution_count": 338,
     "metadata": {},
     "output_type": "execute_result"
    }
   ],
   "source": [
    "# Seleciona somente os fundos de ações\n",
    "df = df[df['fund_class'] == 'Fundo de Ações']\n",
    "\n",
    "# Verifica se foi feito corretamente\n",
    "df['fund_class'].value_counts()"
   ]
  },
  {
   "cell_type": "markdown",
   "id": "cardiovascular-phrase",
   "metadata": {},
   "source": [
    "## 2.3. Retirar valores de cota que sejam igual a 0 (considerado que não registrado corretamente"
   ]
  },
  {
   "cell_type": "code",
   "execution_count": 339,
   "id": "iraqi-venue",
   "metadata": {},
   "outputs": [
    {
     "data": {
      "text/html": [
       "<div>\n",
       "<style scoped>\n",
       "    .dataframe tbody tr th:only-of-type {\n",
       "        vertical-align: middle;\n",
       "    }\n",
       "\n",
       "    .dataframe tbody tr th {\n",
       "        vertical-align: top;\n",
       "    }\n",
       "\n",
       "    .dataframe thead th {\n",
       "        text-align: right;\n",
       "    }\n",
       "</style>\n",
       "<table border=\"1\" class=\"dataframe\">\n",
       "  <thead>\n",
       "    <tr style=\"text-align: right;\">\n",
       "      <th></th>\n",
       "      <th>date</th>\n",
       "      <th>quota_value</th>\n",
       "      <th>net_worth</th>\n",
       "      <th>fund_name</th>\n",
       "      <th>fund_class</th>\n",
       "    </tr>\n",
       "  </thead>\n",
       "  <tbody>\n",
       "    <tr>\n",
       "      <th>107</th>\n",
       "      <td>8/31/2020</td>\n",
       "      <td>0.0</td>\n",
       "      <td>0.0</td>\n",
       "      <td>Fundo 108</td>\n",
       "      <td>Fundo de Ações</td>\n",
       "    </tr>\n",
       "    <tr>\n",
       "      <th>357</th>\n",
       "      <td>8/31/2020</td>\n",
       "      <td>0.0</td>\n",
       "      <td>0.0</td>\n",
       "      <td>Fundo 358</td>\n",
       "      <td>Fundo de Ações</td>\n",
       "    </tr>\n",
       "    <tr>\n",
       "      <th>441</th>\n",
       "      <td>8/31/2020</td>\n",
       "      <td>0.0</td>\n",
       "      <td>0.0</td>\n",
       "      <td>Fundo 442</td>\n",
       "      <td>Fundo de Ações</td>\n",
       "    </tr>\n",
       "    <tr>\n",
       "      <th>1299</th>\n",
       "      <td>9/2/2020</td>\n",
       "      <td>0.0</td>\n",
       "      <td>0.0</td>\n",
       "      <td>Fundo 442</td>\n",
       "      <td>Fundo de Ações</td>\n",
       "    </tr>\n",
       "    <tr>\n",
       "      <th>1300</th>\n",
       "      <td>9/1/2020</td>\n",
       "      <td>0.0</td>\n",
       "      <td>0.0</td>\n",
       "      <td>Fundo 442</td>\n",
       "      <td>Fundo de Ações</td>\n",
       "    </tr>\n",
       "    <tr>\n",
       "      <th>1854</th>\n",
       "      <td>9/1/2020</td>\n",
       "      <td>0.0</td>\n",
       "      <td>0.0</td>\n",
       "      <td>Fundo 358</td>\n",
       "      <td>Fundo de Ações</td>\n",
       "    </tr>\n",
       "    <tr>\n",
       "      <th>2203</th>\n",
       "      <td>9/1/2020</td>\n",
       "      <td>0.0</td>\n",
       "      <td>0.0</td>\n",
       "      <td>Fundo 108</td>\n",
       "      <td>Fundo de Ações</td>\n",
       "    </tr>\n",
       "    <tr>\n",
       "      <th>2204</th>\n",
       "      <td>9/2/2020</td>\n",
       "      <td>0.0</td>\n",
       "      <td>0.0</td>\n",
       "      <td>Fundo 108</td>\n",
       "      <td>Fundo de Ações</td>\n",
       "    </tr>\n",
       "    <tr>\n",
       "      <th>3042</th>\n",
       "      <td>9/7/2020</td>\n",
       "      <td>0.0</td>\n",
       "      <td>0.0</td>\n",
       "      <td>Fundo 13</td>\n",
       "      <td>Fundo de Ações</td>\n",
       "    </tr>\n",
       "  </tbody>\n",
       "</table>\n",
       "</div>"
      ],
      "text/plain": [
       "           date  quota_value  net_worth  fund_name      fund_class\n",
       "107   8/31/2020          0.0        0.0  Fundo 108  Fundo de Ações\n",
       "357   8/31/2020          0.0        0.0  Fundo 358  Fundo de Ações\n",
       "441   8/31/2020          0.0        0.0  Fundo 442  Fundo de Ações\n",
       "1299   9/2/2020          0.0        0.0  Fundo 442  Fundo de Ações\n",
       "1300   9/1/2020          0.0        0.0  Fundo 442  Fundo de Ações\n",
       "1854   9/1/2020          0.0        0.0  Fundo 358  Fundo de Ações\n",
       "2203   9/1/2020          0.0        0.0  Fundo 108  Fundo de Ações\n",
       "2204   9/2/2020          0.0        0.0  Fundo 108  Fundo de Ações\n",
       "3042   9/7/2020          0.0        0.0   Fundo 13  Fundo de Ações"
      ]
     },
     "execution_count": 339,
     "metadata": {},
     "output_type": "execute_result"
    }
   ],
   "source": [
    "# Verifica as linhas em que o valor da cota é igual a 0\n",
    "df[df['quota_value'].isin([0])]"
   ]
  },
  {
   "cell_type": "code",
   "execution_count": 340,
   "id": "hawaiian-pennsylvania",
   "metadata": {},
   "outputs": [],
   "source": [
    "# Tira tais linhas\n",
    "df = df.drop([3042])"
   ]
  },
  {
   "cell_type": "markdown",
   "id": "sharp-segment",
   "metadata": {},
   "source": [
    "## 2.2. Retirar fundos que não tenham valores de cota disponíveis em todos os 22 dias úteis de Setembro"
   ]
  },
  {
   "cell_type": "code",
   "execution_count": 341,
   "id": "smooth-patch",
   "metadata": {},
   "outputs": [],
   "source": [
    "# Conta quantos dias úteis cada fundo está disponível\n",
    "quant_dias = df['fund_name'].value_counts()\n",
    "\n",
    "# Seleciona no dataframe original somente os fundos com 22 dias disponíveis\n",
    "df = df[df['fund_name'].isin(quant_dias[quant_dias == 22].index)]"
   ]
  },
  {
   "cell_type": "code",
   "execution_count": 342,
   "id": "revolutionary-chile",
   "metadata": {},
   "outputs": [
    {
     "data": {
      "text/html": [
       "<div>\n",
       "<style scoped>\n",
       "    .dataframe tbody tr th:only-of-type {\n",
       "        vertical-align: middle;\n",
       "    }\n",
       "\n",
       "    .dataframe tbody tr th {\n",
       "        vertical-align: top;\n",
       "    }\n",
       "\n",
       "    .dataframe thead th {\n",
       "        text-align: right;\n",
       "    }\n",
       "</style>\n",
       "<table border=\"1\" class=\"dataframe\">\n",
       "  <thead>\n",
       "    <tr style=\"text-align: right;\">\n",
       "      <th></th>\n",
       "      <th>date</th>\n",
       "      <th>quota_value</th>\n",
       "      <th>net_worth</th>\n",
       "      <th>fund_name</th>\n",
       "      <th>fund_class</th>\n",
       "    </tr>\n",
       "  </thead>\n",
       "  <tbody>\n",
       "    <tr>\n",
       "      <th>0</th>\n",
       "      <td>8/31/2020</td>\n",
       "      <td>1.710898</td>\n",
       "      <td>2.173858e+08</td>\n",
       "      <td>Fundo 1</td>\n",
       "      <td>Fundo de Ações</td>\n",
       "    </tr>\n",
       "    <tr>\n",
       "      <th>1</th>\n",
       "      <td>8/31/2020</td>\n",
       "      <td>1.708746</td>\n",
       "      <td>1.848605e+08</td>\n",
       "      <td>Fundo 2</td>\n",
       "      <td>Fundo de Ações</td>\n",
       "    </tr>\n",
       "    <tr>\n",
       "      <th>2</th>\n",
       "      <td>8/31/2020</td>\n",
       "      <td>1.763618</td>\n",
       "      <td>5.398929e+09</td>\n",
       "      <td>Fundo 3</td>\n",
       "      <td>Fundo de Ações</td>\n",
       "    </tr>\n",
       "    <tr>\n",
       "      <th>3</th>\n",
       "      <td>8/31/2020</td>\n",
       "      <td>1.287330</td>\n",
       "      <td>2.975126e+07</td>\n",
       "      <td>Fundo 4</td>\n",
       "      <td>Fundo de Ações</td>\n",
       "    </tr>\n",
       "    <tr>\n",
       "      <th>4</th>\n",
       "      <td>8/31/2020</td>\n",
       "      <td>1.236828</td>\n",
       "      <td>9.534258e+07</td>\n",
       "      <td>Fundo 5</td>\n",
       "      <td>Fundo de Ações</td>\n",
       "    </tr>\n",
       "  </tbody>\n",
       "</table>\n",
       "</div>"
      ],
      "text/plain": [
       "        date  quota_value     net_worth fund_name      fund_class\n",
       "0  8/31/2020     1.710898  2.173858e+08   Fundo 1  Fundo de Ações\n",
       "1  8/31/2020     1.708746  1.848605e+08   Fundo 2  Fundo de Ações\n",
       "2  8/31/2020     1.763618  5.398929e+09   Fundo 3  Fundo de Ações\n",
       "3  8/31/2020     1.287330  2.975126e+07   Fundo 4  Fundo de Ações\n",
       "4  8/31/2020     1.236828  9.534258e+07   Fundo 5  Fundo de Ações"
      ]
     },
     "execution_count": 342,
     "metadata": {},
     "output_type": "execute_result"
    }
   ],
   "source": [
    "df.head()"
   ]
  },
  {
   "cell_type": "markdown",
   "id": "visible-value",
   "metadata": {},
   "source": [
    "## 2.3. Rearranjo do banco de dados"
   ]
  },
  {
   "cell_type": "code",
   "execution_count": 343,
   "id": "hybrid-allergy",
   "metadata": {},
   "outputs": [],
   "source": [
    "# Converter a coluna date para o formato correto\n",
    "df['date'] = pd.to_datetime(df['date'])"
   ]
  },
  {
   "cell_type": "code",
   "execution_count": 344,
   "id": "instructional-accreditation",
   "metadata": {},
   "outputs": [],
   "source": [
    "# Organizar linhas, agrupando os fundos e colocando as datas em ordem crescente\n",
    "df = df.sort_values(by = ['fund_name', 'date'])"
   ]
  },
  {
   "cell_type": "code",
   "execution_count": 345,
   "id": "included-breast",
   "metadata": {},
   "outputs": [
    {
     "data": {
      "text/html": [
       "<div>\n",
       "<style scoped>\n",
       "    .dataframe tbody tr th:only-of-type {\n",
       "        vertical-align: middle;\n",
       "    }\n",
       "\n",
       "    .dataframe tbody tr th {\n",
       "        vertical-align: top;\n",
       "    }\n",
       "\n",
       "    .dataframe thead th {\n",
       "        text-align: right;\n",
       "    }\n",
       "</style>\n",
       "<table border=\"1\" class=\"dataframe\">\n",
       "  <thead>\n",
       "    <tr style=\"text-align: right;\">\n",
       "      <th></th>\n",
       "      <th>date</th>\n",
       "      <th>quota_value</th>\n",
       "      <th>net_worth</th>\n",
       "      <th>fund_name</th>\n",
       "      <th>fund_class</th>\n",
       "    </tr>\n",
       "  </thead>\n",
       "  <tbody>\n",
       "    <tr>\n",
       "      <th>0</th>\n",
       "      <td>2020-08-31</td>\n",
       "      <td>1.710898</td>\n",
       "      <td>217385837.9</td>\n",
       "      <td>Fundo 1</td>\n",
       "      <td>Fundo de Ações</td>\n",
       "    </tr>\n",
       "    <tr>\n",
       "      <th>1718</th>\n",
       "      <td>2020-09-01</td>\n",
       "      <td>1.753410</td>\n",
       "      <td>222896658.0</td>\n",
       "      <td>Fundo 1</td>\n",
       "      <td>Fundo de Ações</td>\n",
       "    </tr>\n",
       "    <tr>\n",
       "      <th>1717</th>\n",
       "      <td>2020-09-02</td>\n",
       "      <td>1.760532</td>\n",
       "      <td>224147179.5</td>\n",
       "      <td>Fundo 1</td>\n",
       "      <td>Fundo de Ações</td>\n",
       "    </tr>\n",
       "    <tr>\n",
       "      <th>1716</th>\n",
       "      <td>2020-09-03</td>\n",
       "      <td>1.722689</td>\n",
       "      <td>215889595.7</td>\n",
       "      <td>Fundo 1</td>\n",
       "      <td>Fundo de Ações</td>\n",
       "    </tr>\n",
       "    <tr>\n",
       "      <th>2828</th>\n",
       "      <td>2020-09-04</td>\n",
       "      <td>1.719394</td>\n",
       "      <td>215823919.4</td>\n",
       "      <td>Fundo 1</td>\n",
       "      <td>Fundo de Ações</td>\n",
       "    </tr>\n",
       "  </tbody>\n",
       "</table>\n",
       "</div>"
      ],
      "text/plain": [
       "           date  quota_value    net_worth fund_name      fund_class\n",
       "0    2020-08-31     1.710898  217385837.9   Fundo 1  Fundo de Ações\n",
       "1718 2020-09-01     1.753410  222896658.0   Fundo 1  Fundo de Ações\n",
       "1717 2020-09-02     1.760532  224147179.5   Fundo 1  Fundo de Ações\n",
       "1716 2020-09-03     1.722689  215889595.7   Fundo 1  Fundo de Ações\n",
       "2828 2020-09-04     1.719394  215823919.4   Fundo 1  Fundo de Ações"
      ]
     },
     "execution_count": 345,
     "metadata": {},
     "output_type": "execute_result"
    }
   ],
   "source": [
    "# Visualiza os dados\n",
    "df.head()"
   ]
  },
  {
   "cell_type": "markdown",
   "id": "proved-wireless",
   "metadata": {},
   "source": [
    "# 3. Top 5 Fundos com maior retorno acumulado no mês"
   ]
  },
  {
   "cell_type": "markdown",
   "id": "engaged-orbit",
   "metadata": {},
   "source": [
    "## 3.1. Cálculo dos top 5 Fundos"
   ]
  },
  {
   "cell_type": "code",
   "execution_count": 346,
   "id": "moved-recipient",
   "metadata": {},
   "outputs": [],
   "source": [
    "# Calcula os retornos mensais de cada fundo e guarda em um dicionário\n",
    "retornos_mensais = {}\n",
    "for i in range(0, df['quota_value'].shape[0], 22):\n",
    "    fundo = df['fund_name'].iloc[i] \n",
    "    retorno_acum_mensal = (df['quota_value'].iloc[i+21] - df['quota_value'].iloc[i])/ df['quota_value'].iloc[i]\n",
    "    retornos_mensais[fundo] = retorno_acum_mensal"
   ]
  },
  {
   "cell_type": "code",
   "execution_count": 347,
   "id": "equal-county",
   "metadata": {},
   "outputs": [
    {
     "name": "stdout",
     "output_type": "stream",
     "text": [
      "['Fundo 114', 'Fundo 146', 'Fundo 195', 'Fundo 224', 'Fundo 290']\n"
     ]
    }
   ],
   "source": [
    "# Seleciona os top 5 retornos\n",
    "lista_retor_mensais = list(retornos_mensais.values())\n",
    "lista_retor_mensais.sort(reverse = True)\n",
    "top_5_retornos = lista_retor_mensais[0:5]\n",
    "\n",
    "# Encontra os fundos correspondentes a estes retornos\n",
    "top_5_fundos = [key for key, value in retornos_mensais.items() if value in top_5_retornos]\n",
    "print(top_5_fundos)"
   ]
  },
  {
   "cell_type": "markdown",
   "id": "operational-disclaimer",
   "metadata": {},
   "source": [
    "## *Logo, os cinco fundos com maior retorno acumulado mensal são os fundos: 114, 146, 195, 224 e 290*"
   ]
  },
  {
   "cell_type": "markdown",
   "id": "frank-evanescence",
   "metadata": {},
   "source": [
    "## 3.2. Gráfico dos top 5 fundos com retornos acumulados diários"
   ]
  },
  {
   "cell_type": "code",
   "execution_count": 348,
   "id": "parental-dream",
   "metadata": {},
   "outputs": [],
   "source": [
    "# Monta dataframe somente com os dados destes 5 fundos\n",
    "df_top_5_fundos = df[df['fund_name'].isin(top_5_fundos)]\n",
    "\n",
    "# Reorganiza os fundos em coluna\n",
    "df_top_5_fundos = df_top_5_fundos.pivot_table(index = 'date', \n",
    "                                              columns = 'fund_name', \n",
    "                                              values = 'quota_value')"
   ]
  },
  {
   "cell_type": "code",
   "execution_count": 349,
   "id": "caroline-automation",
   "metadata": {},
   "outputs": [
    {
     "data": {
      "text/html": [
       "<div>\n",
       "<style scoped>\n",
       "    .dataframe tbody tr th:only-of-type {\n",
       "        vertical-align: middle;\n",
       "    }\n",
       "\n",
       "    .dataframe tbody tr th {\n",
       "        vertical-align: top;\n",
       "    }\n",
       "\n",
       "    .dataframe thead th {\n",
       "        text-align: right;\n",
       "    }\n",
       "</style>\n",
       "<table border=\"1\" class=\"dataframe\">\n",
       "  <thead>\n",
       "    <tr style=\"text-align: right;\">\n",
       "      <th>fund_name</th>\n",
       "      <th>Fundo 114</th>\n",
       "      <th>Fundo 146</th>\n",
       "      <th>Fundo 195</th>\n",
       "      <th>Fundo 224</th>\n",
       "      <th>Fundo 290</th>\n",
       "    </tr>\n",
       "    <tr>\n",
       "      <th>date</th>\n",
       "      <th></th>\n",
       "      <th></th>\n",
       "      <th></th>\n",
       "      <th></th>\n",
       "      <th></th>\n",
       "    </tr>\n",
       "  </thead>\n",
       "  <tbody>\n",
       "    <tr>\n",
       "      <th>2020-08-31</th>\n",
       "      <td>1.368116</td>\n",
       "      <td>2.091418</td>\n",
       "      <td>355.156204</td>\n",
       "      <td>1.969079</td>\n",
       "      <td>10.750142</td>\n",
       "    </tr>\n",
       "    <tr>\n",
       "      <th>2020-09-01</th>\n",
       "      <td>1.350553</td>\n",
       "      <td>2.061368</td>\n",
       "      <td>352.525603</td>\n",
       "      <td>1.920086</td>\n",
       "      <td>11.123569</td>\n",
       "    </tr>\n",
       "    <tr>\n",
       "      <th>2020-09-02</th>\n",
       "      <td>1.366819</td>\n",
       "      <td>2.091560</td>\n",
       "      <td>354.396586</td>\n",
       "      <td>1.952109</td>\n",
       "      <td>11.044440</td>\n",
       "    </tr>\n",
       "    <tr>\n",
       "      <th>2020-09-03</th>\n",
       "      <td>1.329115</td>\n",
       "      <td>2.030850</td>\n",
       "      <td>344.137412</td>\n",
       "      <td>1.856886</td>\n",
       "      <td>10.684525</td>\n",
       "    </tr>\n",
       "    <tr>\n",
       "      <th>2020-09-04</th>\n",
       "      <td>1.330352</td>\n",
       "      <td>2.030067</td>\n",
       "      <td>343.754498</td>\n",
       "      <td>1.849048</td>\n",
       "      <td>10.894730</td>\n",
       "    </tr>\n",
       "  </tbody>\n",
       "</table>\n",
       "</div>"
      ],
      "text/plain": [
       "fund_name   Fundo 114  Fundo 146   Fundo 195  Fundo 224  Fundo 290\n",
       "date                                                              \n",
       "2020-08-31   1.368116   2.091418  355.156204   1.969079  10.750142\n",
       "2020-09-01   1.350553   2.061368  352.525603   1.920086  11.123569\n",
       "2020-09-02   1.366819   2.091560  354.396586   1.952109  11.044440\n",
       "2020-09-03   1.329115   2.030850  344.137412   1.856886  10.684525\n",
       "2020-09-04   1.330352   2.030067  343.754498   1.849048  10.894730"
      ]
     },
     "execution_count": 349,
     "metadata": {},
     "output_type": "execute_result"
    }
   ],
   "source": [
    "df_top_5_fundos.head()"
   ]
  },
  {
   "cell_type": "code",
   "execution_count": 350,
   "id": "historical-owner",
   "metadata": {},
   "outputs": [
    {
     "data": {
      "text/html": [
       "<div>\n",
       "<style scoped>\n",
       "    .dataframe tbody tr th:only-of-type {\n",
       "        vertical-align: middle;\n",
       "    }\n",
       "\n",
       "    .dataframe tbody tr th {\n",
       "        vertical-align: top;\n",
       "    }\n",
       "\n",
       "    .dataframe thead th {\n",
       "        text-align: right;\n",
       "    }\n",
       "</style>\n",
       "<table border=\"1\" class=\"dataframe\">\n",
       "  <thead>\n",
       "    <tr style=\"text-align: right;\">\n",
       "      <th>fund_name</th>\n",
       "      <th>Fundo 114</th>\n",
       "      <th>Fundo 146</th>\n",
       "      <th>Fundo 195</th>\n",
       "      <th>Fundo 224</th>\n",
       "      <th>Fundo 290</th>\n",
       "    </tr>\n",
       "    <tr>\n",
       "      <th>date</th>\n",
       "      <th></th>\n",
       "      <th></th>\n",
       "      <th></th>\n",
       "      <th></th>\n",
       "      <th></th>\n",
       "    </tr>\n",
       "  </thead>\n",
       "  <tbody>\n",
       "    <tr>\n",
       "      <th>2020-09-01</th>\n",
       "      <td>-0.012838</td>\n",
       "      <td>-0.014368</td>\n",
       "      <td>-0.007407</td>\n",
       "      <td>-0.024881</td>\n",
       "      <td>0.034737</td>\n",
       "    </tr>\n",
       "    <tr>\n",
       "      <th>2020-09-02</th>\n",
       "      <td>0.012044</td>\n",
       "      <td>0.014647</td>\n",
       "      <td>0.005307</td>\n",
       "      <td>0.016678</td>\n",
       "      <td>-0.007114</td>\n",
       "    </tr>\n",
       "    <tr>\n",
       "      <th>2020-09-03</th>\n",
       "      <td>-0.027586</td>\n",
       "      <td>-0.029026</td>\n",
       "      <td>-0.028948</td>\n",
       "      <td>-0.048779</td>\n",
       "      <td>-0.032588</td>\n",
       "    </tr>\n",
       "    <tr>\n",
       "      <th>2020-09-04</th>\n",
       "      <td>0.000931</td>\n",
       "      <td>-0.000386</td>\n",
       "      <td>-0.001113</td>\n",
       "      <td>-0.004221</td>\n",
       "      <td>0.019674</td>\n",
       "    </tr>\n",
       "    <tr>\n",
       "      <th>2020-09-08</th>\n",
       "      <td>0.001385</td>\n",
       "      <td>-0.000519</td>\n",
       "      <td>0.006593</td>\n",
       "      <td>-0.005022</td>\n",
       "      <td>-0.020107</td>\n",
       "    </tr>\n",
       "  </tbody>\n",
       "</table>\n",
       "</div>"
      ],
      "text/plain": [
       "fund_name   Fundo 114  Fundo 146  Fundo 195  Fundo 224  Fundo 290\n",
       "date                                                             \n",
       "2020-09-01  -0.012838  -0.014368  -0.007407  -0.024881   0.034737\n",
       "2020-09-02   0.012044   0.014647   0.005307   0.016678  -0.007114\n",
       "2020-09-03  -0.027586  -0.029026  -0.028948  -0.048779  -0.032588\n",
       "2020-09-04   0.000931  -0.000386  -0.001113  -0.004221   0.019674\n",
       "2020-09-08   0.001385  -0.000519   0.006593  -0.005022  -0.020107"
      ]
     },
     "execution_count": 350,
     "metadata": {},
     "output_type": "execute_result"
    }
   ],
   "source": [
    "# Calcula os retornos diários de cada fundo e cria um novo dataframe\n",
    "df_retornos_diarios = df_top_5_fundos.pct_change()\n",
    "\n",
    "# Retira a primeira linha do dataframe (valores NaN)\n",
    "df_retornos_diarios = df_retornos_diarios[1:]\n",
    "\n",
    "# Visualiza o dataframe\n",
    "df_retornos_diarios.head()"
   ]
  },
  {
   "cell_type": "code",
   "execution_count": 351,
   "id": "continuous-stranger",
   "metadata": {},
   "outputs": [
    {
     "data": {
      "text/html": [
       "<div>\n",
       "<style scoped>\n",
       "    .dataframe tbody tr th:only-of-type {\n",
       "        vertical-align: middle;\n",
       "    }\n",
       "\n",
       "    .dataframe tbody tr th {\n",
       "        vertical-align: top;\n",
       "    }\n",
       "\n",
       "    .dataframe thead th {\n",
       "        text-align: right;\n",
       "    }\n",
       "</style>\n",
       "<table border=\"1\" class=\"dataframe\">\n",
       "  <thead>\n",
       "    <tr style=\"text-align: right;\">\n",
       "      <th>fund_name</th>\n",
       "      <th>date</th>\n",
       "      <th>Fundo 114</th>\n",
       "      <th>Fundo 146</th>\n",
       "      <th>Fundo 195</th>\n",
       "      <th>Fundo 224</th>\n",
       "      <th>Fundo 290</th>\n",
       "    </tr>\n",
       "  </thead>\n",
       "  <tbody>\n",
       "    <tr>\n",
       "      <th>0</th>\n",
       "      <td>2020-09-01</td>\n",
       "      <td>-0.012838</td>\n",
       "      <td>-0.014368</td>\n",
       "      <td>-0.007407</td>\n",
       "      <td>-0.024881</td>\n",
       "      <td>0.034737</td>\n",
       "    </tr>\n",
       "    <tr>\n",
       "      <th>1</th>\n",
       "      <td>2020-09-02</td>\n",
       "      <td>-0.000948</td>\n",
       "      <td>0.000068</td>\n",
       "      <td>-0.002139</td>\n",
       "      <td>-0.008618</td>\n",
       "      <td>0.027376</td>\n",
       "    </tr>\n",
       "    <tr>\n",
       "      <th>2</th>\n",
       "      <td>2020-09-03</td>\n",
       "      <td>-0.028507</td>\n",
       "      <td>-0.028960</td>\n",
       "      <td>-0.031025</td>\n",
       "      <td>-0.056977</td>\n",
       "      <td>-0.006104</td>\n",
       "    </tr>\n",
       "    <tr>\n",
       "      <th>3</th>\n",
       "      <td>2020-09-04</td>\n",
       "      <td>-0.027603</td>\n",
       "      <td>-0.029334</td>\n",
       "      <td>-0.032103</td>\n",
       "      <td>-0.060958</td>\n",
       "      <td>0.013450</td>\n",
       "    </tr>\n",
       "    <tr>\n",
       "      <th>4</th>\n",
       "      <td>2020-09-08</td>\n",
       "      <td>-0.026256</td>\n",
       "      <td>-0.029838</td>\n",
       "      <td>-0.025722</td>\n",
       "      <td>-0.065674</td>\n",
       "      <td>-0.006928</td>\n",
       "    </tr>\n",
       "  </tbody>\n",
       "</table>\n",
       "</div>"
      ],
      "text/plain": [
       "fund_name       date  Fundo 114  Fundo 146  Fundo 195  Fundo 224  Fundo 290\n",
       "0         2020-09-01  -0.012838  -0.014368  -0.007407  -0.024881   0.034737\n",
       "1         2020-09-02  -0.000948   0.000068  -0.002139  -0.008618   0.027376\n",
       "2         2020-09-03  -0.028507  -0.028960  -0.031025  -0.056977  -0.006104\n",
       "3         2020-09-04  -0.027603  -0.029334  -0.032103  -0.060958   0.013450\n",
       "4         2020-09-08  -0.026256  -0.029838  -0.025722  -0.065674  -0.006928"
      ]
     },
     "execution_count": 351,
     "metadata": {},
     "output_type": "execute_result"
    }
   ],
   "source": [
    "# Calcula os retornos diários acumulados para os top 5 fundos\n",
    "df_retornos_diarios_acum = (1 + df_retornos_diarios).cumprod() - 1\n",
    "\n",
    "# Reseta o index da tabela\n",
    "df_retornos_diarios_acum = df_retornos_diarios_acum.reset_index()\n",
    "\n",
    "# Visualiza os dados\n",
    "df_retornos_diarios_acum.head()"
   ]
  },
  {
   "cell_type": "code",
   "execution_count": 352,
   "id": "textile-magic",
   "metadata": {},
   "outputs": [
    {
     "data": {
      "text/html": [
       "<div>\n",
       "<style scoped>\n",
       "    .dataframe tbody tr th:only-of-type {\n",
       "        vertical-align: middle;\n",
       "    }\n",
       "\n",
       "    .dataframe tbody tr th {\n",
       "        vertical-align: top;\n",
       "    }\n",
       "\n",
       "    .dataframe thead th {\n",
       "        text-align: right;\n",
       "    }\n",
       "</style>\n",
       "<table border=\"1\" class=\"dataframe\">\n",
       "  <thead>\n",
       "    <tr style=\"text-align: right;\">\n",
       "      <th></th>\n",
       "      <th>date</th>\n",
       "      <th>fund_name</th>\n",
       "      <th>daily_return_cum</th>\n",
       "    </tr>\n",
       "  </thead>\n",
       "  <tbody>\n",
       "    <tr>\n",
       "      <th>0</th>\n",
       "      <td>2020-09-01</td>\n",
       "      <td>Fundo 114</td>\n",
       "      <td>-1.283761</td>\n",
       "    </tr>\n",
       "    <tr>\n",
       "      <th>1</th>\n",
       "      <td>2020-09-02</td>\n",
       "      <td>Fundo 114</td>\n",
       "      <td>-0.094793</td>\n",
       "    </tr>\n",
       "    <tr>\n",
       "      <th>2</th>\n",
       "      <td>2020-09-03</td>\n",
       "      <td>Fundo 114</td>\n",
       "      <td>-2.850749</td>\n",
       "    </tr>\n",
       "    <tr>\n",
       "      <th>3</th>\n",
       "      <td>2020-09-04</td>\n",
       "      <td>Fundo 114</td>\n",
       "      <td>-2.760309</td>\n",
       "    </tr>\n",
       "    <tr>\n",
       "      <th>4</th>\n",
       "      <td>2020-09-08</td>\n",
       "      <td>Fundo 114</td>\n",
       "      <td>-2.625611</td>\n",
       "    </tr>\n",
       "  </tbody>\n",
       "</table>\n",
       "</div>"
      ],
      "text/plain": [
       "        date  fund_name  daily_return_cum\n",
       "0 2020-09-01  Fundo 114         -1.283761\n",
       "1 2020-09-02  Fundo 114         -0.094793\n",
       "2 2020-09-03  Fundo 114         -2.850749\n",
       "3 2020-09-04  Fundo 114         -2.760309\n",
       "4 2020-09-08  Fundo 114         -2.625611"
      ]
     },
     "execution_count": 352,
     "metadata": {},
     "output_type": "execute_result"
    }
   ],
   "source": [
    "# Reorganiza a tabela\n",
    "df_retornos_diarios_acum = df_retornos_diarios_acum.melt(id_vars = 'date', \n",
    "                                                         var_name = 'fund_name', \n",
    "                                                         value_name = 'daily_return_cum')\n",
    "\n",
    "# Transforma os retornos diários acumulados em porcentagem\n",
    "df_retornos_diarios_acum['daily_return_cum'] = df_retornos_diarios_acum['daily_return_cum']*100\n",
    "\n",
    "# Visualiza os dados\n",
    "df_retornos_diarios_acum.head()"
   ]
  },
  {
   "cell_type": "code",
   "execution_count": 382,
   "id": "matched-ethernet",
   "metadata": {},
   "outputs": [
    {
     "data": {
      "application/vnd.plotly.v1+json": {
       "config": {
        "plotlyServerURL": "https://plotly.com"
       },
       "data": [
        {
         "hovertemplate": "fund_name=Fundo 114<br>date=%{x}<br>daily_return_cum=%{y}<extra></extra>",
         "legendgroup": "Fundo 114",
         "line": {
          "color": "#636efa",
          "dash": "solid"
         },
         "mode": "lines",
         "name": "Fundo 114",
         "orientation": "v",
         "showlegend": true,
         "type": "scatter",
         "x": [
          "2020-09-01T00:00:00",
          "2020-09-02T00:00:00",
          "2020-09-03T00:00:00",
          "2020-09-04T00:00:00",
          "2020-09-08T00:00:00",
          "2020-09-09T00:00:00",
          "2020-09-10T00:00:00",
          "2020-09-11T00:00:00",
          "2020-09-14T00:00:00",
          "2020-09-15T00:00:00",
          "2020-09-16T00:00:00",
          "2020-09-17T00:00:00",
          "2020-09-18T00:00:00",
          "2020-09-21T00:00:00",
          "2020-09-22T00:00:00",
          "2020-09-23T00:00:00",
          "2020-09-24T00:00:00",
          "2020-09-25T00:00:00",
          "2020-09-28T00:00:00",
          "2020-09-29T00:00:00",
          "2020-09-30T00:00:00"
         ],
         "xaxis": "x",
         "y": [
          -1.2837614286240973,
          -0.09479310732598556,
          -2.8507494994851723,
          -2.7603090921323847,
          -2.6256107530620243,
          -2.669695453899057,
          -3.0248114496986833,
          -2.4809797792416988,
          -2.877790328286012,
          -2.247038418918057,
          -3.030910346185056,
          -3.2202882452212145,
          -1.939491476729982,
          -3.529234191229391,
          -1.531718409768268,
          -1.4380735965913605,
          -2.6462383846227344,
          -1.0701662910467702,
          2.2591960106317366,
          2.2800619260197275,
          2.4444119829428734
         ],
         "yaxis": "y"
        },
        {
         "hovertemplate": "fund_name=Fundo 146<br>date=%{x}<br>daily_return_cum=%{y}<extra></extra>",
         "legendgroup": "Fundo 146",
         "line": {
          "color": "#EF553B",
          "dash": "solid"
         },
         "mode": "lines",
         "name": "Fundo 146",
         "orientation": "v",
         "showlegend": true,
         "type": "scatter",
         "x": [
          "2020-09-01T00:00:00",
          "2020-09-02T00:00:00",
          "2020-09-03T00:00:00",
          "2020-09-04T00:00:00",
          "2020-09-08T00:00:00",
          "2020-09-09T00:00:00",
          "2020-09-10T00:00:00",
          "2020-09-11T00:00:00",
          "2020-09-14T00:00:00",
          "2020-09-15T00:00:00",
          "2020-09-16T00:00:00",
          "2020-09-17T00:00:00",
          "2020-09-18T00:00:00",
          "2020-09-21T00:00:00",
          "2020-09-22T00:00:00",
          "2020-09-23T00:00:00",
          "2020-09-24T00:00:00",
          "2020-09-25T00:00:00",
          "2020-09-28T00:00:00",
          "2020-09-29T00:00:00",
          "2020-09-30T00:00:00"
         ],
         "xaxis": "x",
         "y": [
          -1.4367876739374008,
          0.006828861025476307,
          -2.89599459138139,
          -2.9334447881995684,
          -2.9838192332685476,
          -3.066352727129673,
          -3.492247110211222,
          -2.788089311174269,
          -3.061044844043026,
          -2.426207013139836,
          -3.1810663081449198,
          -3.4762627365884535,
          -2.3363842050137085,
          -4.0243240185443785,
          -2.294873604342562,
          -2.135587384705806,
          -3.2492721993854334,
          -1.6148793202742429,
          1.880067872433222,
          1.8409116557201566,
          2.1448170097145614
         ],
         "yaxis": "y"
        },
        {
         "hovertemplate": "fund_name=Fundo 195<br>date=%{x}<br>daily_return_cum=%{y}<extra></extra>",
         "legendgroup": "Fundo 195",
         "line": {
          "color": "#00cc96",
          "dash": "solid"
         },
         "mode": "lines",
         "name": "Fundo 195",
         "orientation": "v",
         "showlegend": true,
         "type": "scatter",
         "x": [
          "2020-09-01T00:00:00",
          "2020-09-02T00:00:00",
          "2020-09-03T00:00:00",
          "2020-09-04T00:00:00",
          "2020-09-08T00:00:00",
          "2020-09-09T00:00:00",
          "2020-09-10T00:00:00",
          "2020-09-11T00:00:00",
          "2020-09-14T00:00:00",
          "2020-09-15T00:00:00",
          "2020-09-16T00:00:00",
          "2020-09-17T00:00:00",
          "2020-09-18T00:00:00",
          "2020-09-21T00:00:00",
          "2020-09-22T00:00:00",
          "2020-09-23T00:00:00",
          "2020-09-24T00:00:00",
          "2020-09-25T00:00:00",
          "2020-09-28T00:00:00",
          "2020-09-29T00:00:00",
          "2020-09-30T00:00:00"
         ],
         "xaxis": "x",
         "y": [
          -0.7406883986179835,
          -0.2138828750405386,
          -3.1025200111666984,
          -3.210335697810318,
          -2.5721671752072406,
          -2.484359811436665,
          -2.241166227804392,
          -1.8945457306442148,
          -0.9849618732832521,
          -0.7634299413787127,
          -1.8056080473255798,
          -1.6388103134473364,
          -1.3601884031850031,
          -1.4913146779776065,
          -0.3338750911979327,
          0.9108404875281195,
          -0.08224533225387187,
          0.7663762787598394,
          2.5318453961175713,
          2.2862910765877986,
          2.689007285368983
         ],
         "yaxis": "y"
        },
        {
         "hovertemplate": "fund_name=Fundo 224<br>date=%{x}<br>daily_return_cum=%{y}<extra></extra>",
         "legendgroup": "Fundo 224",
         "line": {
          "color": "#ab63fa",
          "dash": "solid"
         },
         "mode": "lines",
         "name": "Fundo 224",
         "orientation": "v",
         "showlegend": true,
         "type": "scatter",
         "x": [
          "2020-09-01T00:00:00",
          "2020-09-02T00:00:00",
          "2020-09-03T00:00:00",
          "2020-09-04T00:00:00",
          "2020-09-08T00:00:00",
          "2020-09-09T00:00:00",
          "2020-09-10T00:00:00",
          "2020-09-11T00:00:00",
          "2020-09-14T00:00:00",
          "2020-09-15T00:00:00",
          "2020-09-16T00:00:00",
          "2020-09-17T00:00:00",
          "2020-09-18T00:00:00",
          "2020-09-21T00:00:00",
          "2020-09-22T00:00:00",
          "2020-09-23T00:00:00",
          "2020-09-24T00:00:00",
          "2020-09-25T00:00:00",
          "2020-09-28T00:00:00",
          "2020-09-29T00:00:00",
          "2020-09-30T00:00:00"
         ],
         "xaxis": "x",
         "y": [
          -2.48809753044108,
          -0.8618355113433784,
          -5.697716225429195,
          -6.09579933714789,
          -6.56741835963941,
          -6.098215695546882,
          -7.133609526111595,
          -6.281311469735229,
          -4.77196453025579,
          -4.14800523266019,
          -4.9549841266887995,
          -4.756755895330489,
          -2.749139399584022,
          -3.544967901639473,
          -2.085079115880606,
          -1.2899580512463094,
          -3.125819609165925,
          -0.3734106603232701,
          1.5800114567280588,
          2.346520156461329,
          3.44031540922205
         ],
         "yaxis": "y"
        },
        {
         "hovertemplate": "fund_name=Fundo 290<br>date=%{x}<br>daily_return_cum=%{y}<extra></extra>",
         "legendgroup": "Fundo 290",
         "line": {
          "color": "#FFA15A",
          "dash": "solid"
         },
         "mode": "lines",
         "name": "Fundo 290",
         "orientation": "v",
         "showlegend": true,
         "type": "scatter",
         "x": [
          "2020-09-01T00:00:00",
          "2020-09-02T00:00:00",
          "2020-09-03T00:00:00",
          "2020-09-04T00:00:00",
          "2020-09-08T00:00:00",
          "2020-09-09T00:00:00",
          "2020-09-10T00:00:00",
          "2020-09-11T00:00:00",
          "2020-09-14T00:00:00",
          "2020-09-15T00:00:00",
          "2020-09-16T00:00:00",
          "2020-09-17T00:00:00",
          "2020-09-18T00:00:00",
          "2020-09-21T00:00:00",
          "2020-09-22T00:00:00",
          "2020-09-23T00:00:00",
          "2020-09-24T00:00:00",
          "2020-09-25T00:00:00",
          "2020-09-28T00:00:00",
          "2020-09-29T00:00:00",
          "2020-09-30T00:00:00"
         ],
         "xaxis": "x",
         "y": [
          3.4736936498141135,
          2.7376196519078633,
          -0.6103826349456387,
          1.3449868848244284,
          -0.6927815465135101,
          0.5235372704844199,
          -1.9319465733568797,
          3.7814570263351,
          3.7087696143920823,
          4.84921966612164,
          2.120865008108752,
          3.9763753818321756,
          3.273193972693589,
          0.5051561179378217,
          0.8645560216786308,
          3.0219693842183926,
          2.285690737852608,
          3.2716312026390026,
          2.4851950792836197,
          1.7659859748829554,
          3.0360064081014215
         ],
         "yaxis": "y"
        }
       ],
       "layout": {
        "legend": {
         "title": {
          "text": "Fundos"
         },
         "tracegroupgap": 0
        },
        "template": {
         "data": {
          "bar": [
           {
            "error_x": {
             "color": "#2a3f5f"
            },
            "error_y": {
             "color": "#2a3f5f"
            },
            "marker": {
             "line": {
              "color": "#E5ECF6",
              "width": 0.5
             },
             "pattern": {
              "fillmode": "overlay",
              "size": 10,
              "solidity": 0.2
             }
            },
            "type": "bar"
           }
          ],
          "barpolar": [
           {
            "marker": {
             "line": {
              "color": "#E5ECF6",
              "width": 0.5
             },
             "pattern": {
              "fillmode": "overlay",
              "size": 10,
              "solidity": 0.2
             }
            },
            "type": "barpolar"
           }
          ],
          "carpet": [
           {
            "aaxis": {
             "endlinecolor": "#2a3f5f",
             "gridcolor": "white",
             "linecolor": "white",
             "minorgridcolor": "white",
             "startlinecolor": "#2a3f5f"
            },
            "baxis": {
             "endlinecolor": "#2a3f5f",
             "gridcolor": "white",
             "linecolor": "white",
             "minorgridcolor": "white",
             "startlinecolor": "#2a3f5f"
            },
            "type": "carpet"
           }
          ],
          "choropleth": [
           {
            "colorbar": {
             "outlinewidth": 0,
             "ticks": ""
            },
            "type": "choropleth"
           }
          ],
          "contour": [
           {
            "colorbar": {
             "outlinewidth": 0,
             "ticks": ""
            },
            "colorscale": [
             [
              0,
              "#0d0887"
             ],
             [
              0.1111111111111111,
              "#46039f"
             ],
             [
              0.2222222222222222,
              "#7201a8"
             ],
             [
              0.3333333333333333,
              "#9c179e"
             ],
             [
              0.4444444444444444,
              "#bd3786"
             ],
             [
              0.5555555555555556,
              "#d8576b"
             ],
             [
              0.6666666666666666,
              "#ed7953"
             ],
             [
              0.7777777777777778,
              "#fb9f3a"
             ],
             [
              0.8888888888888888,
              "#fdca26"
             ],
             [
              1,
              "#f0f921"
             ]
            ],
            "type": "contour"
           }
          ],
          "contourcarpet": [
           {
            "colorbar": {
             "outlinewidth": 0,
             "ticks": ""
            },
            "type": "contourcarpet"
           }
          ],
          "heatmap": [
           {
            "colorbar": {
             "outlinewidth": 0,
             "ticks": ""
            },
            "colorscale": [
             [
              0,
              "#0d0887"
             ],
             [
              0.1111111111111111,
              "#46039f"
             ],
             [
              0.2222222222222222,
              "#7201a8"
             ],
             [
              0.3333333333333333,
              "#9c179e"
             ],
             [
              0.4444444444444444,
              "#bd3786"
             ],
             [
              0.5555555555555556,
              "#d8576b"
             ],
             [
              0.6666666666666666,
              "#ed7953"
             ],
             [
              0.7777777777777778,
              "#fb9f3a"
             ],
             [
              0.8888888888888888,
              "#fdca26"
             ],
             [
              1,
              "#f0f921"
             ]
            ],
            "type": "heatmap"
           }
          ],
          "heatmapgl": [
           {
            "colorbar": {
             "outlinewidth": 0,
             "ticks": ""
            },
            "colorscale": [
             [
              0,
              "#0d0887"
             ],
             [
              0.1111111111111111,
              "#46039f"
             ],
             [
              0.2222222222222222,
              "#7201a8"
             ],
             [
              0.3333333333333333,
              "#9c179e"
             ],
             [
              0.4444444444444444,
              "#bd3786"
             ],
             [
              0.5555555555555556,
              "#d8576b"
             ],
             [
              0.6666666666666666,
              "#ed7953"
             ],
             [
              0.7777777777777778,
              "#fb9f3a"
             ],
             [
              0.8888888888888888,
              "#fdca26"
             ],
             [
              1,
              "#f0f921"
             ]
            ],
            "type": "heatmapgl"
           }
          ],
          "histogram": [
           {
            "marker": {
             "pattern": {
              "fillmode": "overlay",
              "size": 10,
              "solidity": 0.2
             }
            },
            "type": "histogram"
           }
          ],
          "histogram2d": [
           {
            "colorbar": {
             "outlinewidth": 0,
             "ticks": ""
            },
            "colorscale": [
             [
              0,
              "#0d0887"
             ],
             [
              0.1111111111111111,
              "#46039f"
             ],
             [
              0.2222222222222222,
              "#7201a8"
             ],
             [
              0.3333333333333333,
              "#9c179e"
             ],
             [
              0.4444444444444444,
              "#bd3786"
             ],
             [
              0.5555555555555556,
              "#d8576b"
             ],
             [
              0.6666666666666666,
              "#ed7953"
             ],
             [
              0.7777777777777778,
              "#fb9f3a"
             ],
             [
              0.8888888888888888,
              "#fdca26"
             ],
             [
              1,
              "#f0f921"
             ]
            ],
            "type": "histogram2d"
           }
          ],
          "histogram2dcontour": [
           {
            "colorbar": {
             "outlinewidth": 0,
             "ticks": ""
            },
            "colorscale": [
             [
              0,
              "#0d0887"
             ],
             [
              0.1111111111111111,
              "#46039f"
             ],
             [
              0.2222222222222222,
              "#7201a8"
             ],
             [
              0.3333333333333333,
              "#9c179e"
             ],
             [
              0.4444444444444444,
              "#bd3786"
             ],
             [
              0.5555555555555556,
              "#d8576b"
             ],
             [
              0.6666666666666666,
              "#ed7953"
             ],
             [
              0.7777777777777778,
              "#fb9f3a"
             ],
             [
              0.8888888888888888,
              "#fdca26"
             ],
             [
              1,
              "#f0f921"
             ]
            ],
            "type": "histogram2dcontour"
           }
          ],
          "mesh3d": [
           {
            "colorbar": {
             "outlinewidth": 0,
             "ticks": ""
            },
            "type": "mesh3d"
           }
          ],
          "parcoords": [
           {
            "line": {
             "colorbar": {
              "outlinewidth": 0,
              "ticks": ""
             }
            },
            "type": "parcoords"
           }
          ],
          "pie": [
           {
            "automargin": true,
            "type": "pie"
           }
          ],
          "scatter": [
           {
            "marker": {
             "colorbar": {
              "outlinewidth": 0,
              "ticks": ""
             }
            },
            "type": "scatter"
           }
          ],
          "scatter3d": [
           {
            "line": {
             "colorbar": {
              "outlinewidth": 0,
              "ticks": ""
             }
            },
            "marker": {
             "colorbar": {
              "outlinewidth": 0,
              "ticks": ""
             }
            },
            "type": "scatter3d"
           }
          ],
          "scattercarpet": [
           {
            "marker": {
             "colorbar": {
              "outlinewidth": 0,
              "ticks": ""
             }
            },
            "type": "scattercarpet"
           }
          ],
          "scattergeo": [
           {
            "marker": {
             "colorbar": {
              "outlinewidth": 0,
              "ticks": ""
             }
            },
            "type": "scattergeo"
           }
          ],
          "scattergl": [
           {
            "marker": {
             "colorbar": {
              "outlinewidth": 0,
              "ticks": ""
             }
            },
            "type": "scattergl"
           }
          ],
          "scattermapbox": [
           {
            "marker": {
             "colorbar": {
              "outlinewidth": 0,
              "ticks": ""
             }
            },
            "type": "scattermapbox"
           }
          ],
          "scatterpolar": [
           {
            "marker": {
             "colorbar": {
              "outlinewidth": 0,
              "ticks": ""
             }
            },
            "type": "scatterpolar"
           }
          ],
          "scatterpolargl": [
           {
            "marker": {
             "colorbar": {
              "outlinewidth": 0,
              "ticks": ""
             }
            },
            "type": "scatterpolargl"
           }
          ],
          "scatterternary": [
           {
            "marker": {
             "colorbar": {
              "outlinewidth": 0,
              "ticks": ""
             }
            },
            "type": "scatterternary"
           }
          ],
          "surface": [
           {
            "colorbar": {
             "outlinewidth": 0,
             "ticks": ""
            },
            "colorscale": [
             [
              0,
              "#0d0887"
             ],
             [
              0.1111111111111111,
              "#46039f"
             ],
             [
              0.2222222222222222,
              "#7201a8"
             ],
             [
              0.3333333333333333,
              "#9c179e"
             ],
             [
              0.4444444444444444,
              "#bd3786"
             ],
             [
              0.5555555555555556,
              "#d8576b"
             ],
             [
              0.6666666666666666,
              "#ed7953"
             ],
             [
              0.7777777777777778,
              "#fb9f3a"
             ],
             [
              0.8888888888888888,
              "#fdca26"
             ],
             [
              1,
              "#f0f921"
             ]
            ],
            "type": "surface"
           }
          ],
          "table": [
           {
            "cells": {
             "fill": {
              "color": "#EBF0F8"
             },
             "line": {
              "color": "white"
             }
            },
            "header": {
             "fill": {
              "color": "#C8D4E3"
             },
             "line": {
              "color": "white"
             }
            },
            "type": "table"
           }
          ]
         },
         "layout": {
          "annotationdefaults": {
           "arrowcolor": "#2a3f5f",
           "arrowhead": 0,
           "arrowwidth": 1
          },
          "autotypenumbers": "strict",
          "coloraxis": {
           "colorbar": {
            "outlinewidth": 0,
            "ticks": ""
           }
          },
          "colorscale": {
           "diverging": [
            [
             0,
             "#8e0152"
            ],
            [
             0.1,
             "#c51b7d"
            ],
            [
             0.2,
             "#de77ae"
            ],
            [
             0.3,
             "#f1b6da"
            ],
            [
             0.4,
             "#fde0ef"
            ],
            [
             0.5,
             "#f7f7f7"
            ],
            [
             0.6,
             "#e6f5d0"
            ],
            [
             0.7,
             "#b8e186"
            ],
            [
             0.8,
             "#7fbc41"
            ],
            [
             0.9,
             "#4d9221"
            ],
            [
             1,
             "#276419"
            ]
           ],
           "sequential": [
            [
             0,
             "#0d0887"
            ],
            [
             0.1111111111111111,
             "#46039f"
            ],
            [
             0.2222222222222222,
             "#7201a8"
            ],
            [
             0.3333333333333333,
             "#9c179e"
            ],
            [
             0.4444444444444444,
             "#bd3786"
            ],
            [
             0.5555555555555556,
             "#d8576b"
            ],
            [
             0.6666666666666666,
             "#ed7953"
            ],
            [
             0.7777777777777778,
             "#fb9f3a"
            ],
            [
             0.8888888888888888,
             "#fdca26"
            ],
            [
             1,
             "#f0f921"
            ]
           ],
           "sequentialminus": [
            [
             0,
             "#0d0887"
            ],
            [
             0.1111111111111111,
             "#46039f"
            ],
            [
             0.2222222222222222,
             "#7201a8"
            ],
            [
             0.3333333333333333,
             "#9c179e"
            ],
            [
             0.4444444444444444,
             "#bd3786"
            ],
            [
             0.5555555555555556,
             "#d8576b"
            ],
            [
             0.6666666666666666,
             "#ed7953"
            ],
            [
             0.7777777777777778,
             "#fb9f3a"
            ],
            [
             0.8888888888888888,
             "#fdca26"
            ],
            [
             1,
             "#f0f921"
            ]
           ]
          },
          "colorway": [
           "#636efa",
           "#EF553B",
           "#00cc96",
           "#ab63fa",
           "#FFA15A",
           "#19d3f3",
           "#FF6692",
           "#B6E880",
           "#FF97FF",
           "#FECB52"
          ],
          "font": {
           "color": "#2a3f5f"
          },
          "geo": {
           "bgcolor": "white",
           "lakecolor": "white",
           "landcolor": "#E5ECF6",
           "showlakes": true,
           "showland": true,
           "subunitcolor": "white"
          },
          "hoverlabel": {
           "align": "left"
          },
          "hovermode": "closest",
          "mapbox": {
           "style": "light"
          },
          "paper_bgcolor": "white",
          "plot_bgcolor": "#E5ECF6",
          "polar": {
           "angularaxis": {
            "gridcolor": "white",
            "linecolor": "white",
            "ticks": ""
           },
           "bgcolor": "#E5ECF6",
           "radialaxis": {
            "gridcolor": "white",
            "linecolor": "white",
            "ticks": ""
           }
          },
          "scene": {
           "xaxis": {
            "backgroundcolor": "#E5ECF6",
            "gridcolor": "white",
            "gridwidth": 2,
            "linecolor": "white",
            "showbackground": true,
            "ticks": "",
            "zerolinecolor": "white"
           },
           "yaxis": {
            "backgroundcolor": "#E5ECF6",
            "gridcolor": "white",
            "gridwidth": 2,
            "linecolor": "white",
            "showbackground": true,
            "ticks": "",
            "zerolinecolor": "white"
           },
           "zaxis": {
            "backgroundcolor": "#E5ECF6",
            "gridcolor": "white",
            "gridwidth": 2,
            "linecolor": "white",
            "showbackground": true,
            "ticks": "",
            "zerolinecolor": "white"
           }
          },
          "shapedefaults": {
           "line": {
            "color": "#2a3f5f"
           }
          },
          "ternary": {
           "aaxis": {
            "gridcolor": "white",
            "linecolor": "white",
            "ticks": ""
           },
           "baxis": {
            "gridcolor": "white",
            "linecolor": "white",
            "ticks": ""
           },
           "bgcolor": "#E5ECF6",
           "caxis": {
            "gridcolor": "white",
            "linecolor": "white",
            "ticks": ""
           }
          },
          "title": {
           "x": 0.05
          },
          "xaxis": {
           "automargin": true,
           "gridcolor": "white",
           "linecolor": "white",
           "ticks": "",
           "title": {
            "standoff": 15
           },
           "zerolinecolor": "white",
           "zerolinewidth": 2
          },
          "yaxis": {
           "automargin": true,
           "gridcolor": "white",
           "linecolor": "white",
           "ticks": "",
           "title": {
            "standoff": 15
           },
           "zerolinecolor": "white",
           "zerolinewidth": 2
          }
         }
        },
        "title": {
         "text": "Retorno Diário Acumulado - Top 5 Fundos"
        },
        "xaxis": {
         "anchor": "y",
         "domain": [
          0,
          1
         ],
         "title": {
          "text": "Data"
         }
        },
        "yaxis": {
         "anchor": "x",
         "domain": [
          0,
          1
         ],
         "title": {
          "text": "Retorno Diário Acumulado (%)"
         }
        }
       }
      },
      "text/html": [
       "<div>                            <div id=\"3b186d7d-0c36-4dc7-a1df-c49233f2c6e1\" class=\"plotly-graph-div\" style=\"height:525px; width:100%;\"></div>            <script type=\"text/javascript\">                require([\"plotly\"], function(Plotly) {                    window.PLOTLYENV=window.PLOTLYENV || {};                                    if (document.getElementById(\"3b186d7d-0c36-4dc7-a1df-c49233f2c6e1\")) {                    Plotly.newPlot(                        \"3b186d7d-0c36-4dc7-a1df-c49233f2c6e1\",                        [{\"hovertemplate\":\"fund_name=Fundo 114<br>date=%{x}<br>daily_return_cum=%{y}<extra></extra>\",\"legendgroup\":\"Fundo 114\",\"line\":{\"color\":\"#636efa\",\"dash\":\"solid\"},\"mode\":\"lines\",\"name\":\"Fundo 114\",\"orientation\":\"v\",\"showlegend\":true,\"type\":\"scatter\",\"x\":[\"2020-09-01T00:00:00\",\"2020-09-02T00:00:00\",\"2020-09-03T00:00:00\",\"2020-09-04T00:00:00\",\"2020-09-08T00:00:00\",\"2020-09-09T00:00:00\",\"2020-09-10T00:00:00\",\"2020-09-11T00:00:00\",\"2020-09-14T00:00:00\",\"2020-09-15T00:00:00\",\"2020-09-16T00:00:00\",\"2020-09-17T00:00:00\",\"2020-09-18T00:00:00\",\"2020-09-21T00:00:00\",\"2020-09-22T00:00:00\",\"2020-09-23T00:00:00\",\"2020-09-24T00:00:00\",\"2020-09-25T00:00:00\",\"2020-09-28T00:00:00\",\"2020-09-29T00:00:00\",\"2020-09-30T00:00:00\"],\"xaxis\":\"x\",\"y\":[-1.2837614286240973,-0.09479310732598556,-2.8507494994851723,-2.7603090921323847,-2.6256107530620243,-2.669695453899057,-3.0248114496986833,-2.4809797792416988,-2.877790328286012,-2.247038418918057,-3.030910346185056,-3.2202882452212145,-1.939491476729982,-3.529234191229391,-1.531718409768268,-1.4380735965913605,-2.6462383846227344,-1.0701662910467702,2.2591960106317366,2.2800619260197275,2.4444119829428734],\"yaxis\":\"y\"},{\"hovertemplate\":\"fund_name=Fundo 146<br>date=%{x}<br>daily_return_cum=%{y}<extra></extra>\",\"legendgroup\":\"Fundo 146\",\"line\":{\"color\":\"#EF553B\",\"dash\":\"solid\"},\"mode\":\"lines\",\"name\":\"Fundo 146\",\"orientation\":\"v\",\"showlegend\":true,\"type\":\"scatter\",\"x\":[\"2020-09-01T00:00:00\",\"2020-09-02T00:00:00\",\"2020-09-03T00:00:00\",\"2020-09-04T00:00:00\",\"2020-09-08T00:00:00\",\"2020-09-09T00:00:00\",\"2020-09-10T00:00:00\",\"2020-09-11T00:00:00\",\"2020-09-14T00:00:00\",\"2020-09-15T00:00:00\",\"2020-09-16T00:00:00\",\"2020-09-17T00:00:00\",\"2020-09-18T00:00:00\",\"2020-09-21T00:00:00\",\"2020-09-22T00:00:00\",\"2020-09-23T00:00:00\",\"2020-09-24T00:00:00\",\"2020-09-25T00:00:00\",\"2020-09-28T00:00:00\",\"2020-09-29T00:00:00\",\"2020-09-30T00:00:00\"],\"xaxis\":\"x\",\"y\":[-1.4367876739374008,0.006828861025476307,-2.89599459138139,-2.9334447881995684,-2.9838192332685476,-3.066352727129673,-3.492247110211222,-2.788089311174269,-3.061044844043026,-2.426207013139836,-3.1810663081449198,-3.4762627365884535,-2.3363842050137085,-4.0243240185443785,-2.294873604342562,-2.135587384705806,-3.2492721993854334,-1.6148793202742429,1.880067872433222,1.8409116557201566,2.1448170097145614],\"yaxis\":\"y\"},{\"hovertemplate\":\"fund_name=Fundo 195<br>date=%{x}<br>daily_return_cum=%{y}<extra></extra>\",\"legendgroup\":\"Fundo 195\",\"line\":{\"color\":\"#00cc96\",\"dash\":\"solid\"},\"mode\":\"lines\",\"name\":\"Fundo 195\",\"orientation\":\"v\",\"showlegend\":true,\"type\":\"scatter\",\"x\":[\"2020-09-01T00:00:00\",\"2020-09-02T00:00:00\",\"2020-09-03T00:00:00\",\"2020-09-04T00:00:00\",\"2020-09-08T00:00:00\",\"2020-09-09T00:00:00\",\"2020-09-10T00:00:00\",\"2020-09-11T00:00:00\",\"2020-09-14T00:00:00\",\"2020-09-15T00:00:00\",\"2020-09-16T00:00:00\",\"2020-09-17T00:00:00\",\"2020-09-18T00:00:00\",\"2020-09-21T00:00:00\",\"2020-09-22T00:00:00\",\"2020-09-23T00:00:00\",\"2020-09-24T00:00:00\",\"2020-09-25T00:00:00\",\"2020-09-28T00:00:00\",\"2020-09-29T00:00:00\",\"2020-09-30T00:00:00\"],\"xaxis\":\"x\",\"y\":[-0.7406883986179835,-0.2138828750405386,-3.1025200111666984,-3.210335697810318,-2.5721671752072406,-2.484359811436665,-2.241166227804392,-1.8945457306442148,-0.9849618732832521,-0.7634299413787127,-1.8056080473255798,-1.6388103134473364,-1.3601884031850031,-1.4913146779776065,-0.3338750911979327,0.9108404875281195,-0.08224533225387187,0.7663762787598394,2.5318453961175713,2.2862910765877986,2.689007285368983],\"yaxis\":\"y\"},{\"hovertemplate\":\"fund_name=Fundo 224<br>date=%{x}<br>daily_return_cum=%{y}<extra></extra>\",\"legendgroup\":\"Fundo 224\",\"line\":{\"color\":\"#ab63fa\",\"dash\":\"solid\"},\"mode\":\"lines\",\"name\":\"Fundo 224\",\"orientation\":\"v\",\"showlegend\":true,\"type\":\"scatter\",\"x\":[\"2020-09-01T00:00:00\",\"2020-09-02T00:00:00\",\"2020-09-03T00:00:00\",\"2020-09-04T00:00:00\",\"2020-09-08T00:00:00\",\"2020-09-09T00:00:00\",\"2020-09-10T00:00:00\",\"2020-09-11T00:00:00\",\"2020-09-14T00:00:00\",\"2020-09-15T00:00:00\",\"2020-09-16T00:00:00\",\"2020-09-17T00:00:00\",\"2020-09-18T00:00:00\",\"2020-09-21T00:00:00\",\"2020-09-22T00:00:00\",\"2020-09-23T00:00:00\",\"2020-09-24T00:00:00\",\"2020-09-25T00:00:00\",\"2020-09-28T00:00:00\",\"2020-09-29T00:00:00\",\"2020-09-30T00:00:00\"],\"xaxis\":\"x\",\"y\":[-2.48809753044108,-0.8618355113433784,-5.697716225429195,-6.09579933714789,-6.56741835963941,-6.098215695546882,-7.133609526111595,-6.281311469735229,-4.77196453025579,-4.14800523266019,-4.9549841266887995,-4.756755895330489,-2.749139399584022,-3.544967901639473,-2.085079115880606,-1.2899580512463094,-3.125819609165925,-0.3734106603232701,1.5800114567280588,2.346520156461329,3.44031540922205],\"yaxis\":\"y\"},{\"hovertemplate\":\"fund_name=Fundo 290<br>date=%{x}<br>daily_return_cum=%{y}<extra></extra>\",\"legendgroup\":\"Fundo 290\",\"line\":{\"color\":\"#FFA15A\",\"dash\":\"solid\"},\"mode\":\"lines\",\"name\":\"Fundo 290\",\"orientation\":\"v\",\"showlegend\":true,\"type\":\"scatter\",\"x\":[\"2020-09-01T00:00:00\",\"2020-09-02T00:00:00\",\"2020-09-03T00:00:00\",\"2020-09-04T00:00:00\",\"2020-09-08T00:00:00\",\"2020-09-09T00:00:00\",\"2020-09-10T00:00:00\",\"2020-09-11T00:00:00\",\"2020-09-14T00:00:00\",\"2020-09-15T00:00:00\",\"2020-09-16T00:00:00\",\"2020-09-17T00:00:00\",\"2020-09-18T00:00:00\",\"2020-09-21T00:00:00\",\"2020-09-22T00:00:00\",\"2020-09-23T00:00:00\",\"2020-09-24T00:00:00\",\"2020-09-25T00:00:00\",\"2020-09-28T00:00:00\",\"2020-09-29T00:00:00\",\"2020-09-30T00:00:00\"],\"xaxis\":\"x\",\"y\":[3.4736936498141135,2.7376196519078633,-0.6103826349456387,1.3449868848244284,-0.6927815465135101,0.5235372704844199,-1.9319465733568797,3.7814570263351,3.7087696143920823,4.84921966612164,2.120865008108752,3.9763753818321756,3.273193972693589,0.5051561179378217,0.8645560216786308,3.0219693842183926,2.285690737852608,3.2716312026390026,2.4851950792836197,1.7659859748829554,3.0360064081014215],\"yaxis\":\"y\"}],                        {\"legend\":{\"title\":{\"text\":\"Fundos\"},\"tracegroupgap\":0},\"template\":{\"data\":{\"bar\":[{\"error_x\":{\"color\":\"#2a3f5f\"},\"error_y\":{\"color\":\"#2a3f5f\"},\"marker\":{\"line\":{\"color\":\"#E5ECF6\",\"width\":0.5},\"pattern\":{\"fillmode\":\"overlay\",\"size\":10,\"solidity\":0.2}},\"type\":\"bar\"}],\"barpolar\":[{\"marker\":{\"line\":{\"color\":\"#E5ECF6\",\"width\":0.5},\"pattern\":{\"fillmode\":\"overlay\",\"size\":10,\"solidity\":0.2}},\"type\":\"barpolar\"}],\"carpet\":[{\"aaxis\":{\"endlinecolor\":\"#2a3f5f\",\"gridcolor\":\"white\",\"linecolor\":\"white\",\"minorgridcolor\":\"white\",\"startlinecolor\":\"#2a3f5f\"},\"baxis\":{\"endlinecolor\":\"#2a3f5f\",\"gridcolor\":\"white\",\"linecolor\":\"white\",\"minorgridcolor\":\"white\",\"startlinecolor\":\"#2a3f5f\"},\"type\":\"carpet\"}],\"choropleth\":[{\"colorbar\":{\"outlinewidth\":0,\"ticks\":\"\"},\"type\":\"choropleth\"}],\"contour\":[{\"colorbar\":{\"outlinewidth\":0,\"ticks\":\"\"},\"colorscale\":[[0.0,\"#0d0887\"],[0.1111111111111111,\"#46039f\"],[0.2222222222222222,\"#7201a8\"],[0.3333333333333333,\"#9c179e\"],[0.4444444444444444,\"#bd3786\"],[0.5555555555555556,\"#d8576b\"],[0.6666666666666666,\"#ed7953\"],[0.7777777777777778,\"#fb9f3a\"],[0.8888888888888888,\"#fdca26\"],[1.0,\"#f0f921\"]],\"type\":\"contour\"}],\"contourcarpet\":[{\"colorbar\":{\"outlinewidth\":0,\"ticks\":\"\"},\"type\":\"contourcarpet\"}],\"heatmap\":[{\"colorbar\":{\"outlinewidth\":0,\"ticks\":\"\"},\"colorscale\":[[0.0,\"#0d0887\"],[0.1111111111111111,\"#46039f\"],[0.2222222222222222,\"#7201a8\"],[0.3333333333333333,\"#9c179e\"],[0.4444444444444444,\"#bd3786\"],[0.5555555555555556,\"#d8576b\"],[0.6666666666666666,\"#ed7953\"],[0.7777777777777778,\"#fb9f3a\"],[0.8888888888888888,\"#fdca26\"],[1.0,\"#f0f921\"]],\"type\":\"heatmap\"}],\"heatmapgl\":[{\"colorbar\":{\"outlinewidth\":0,\"ticks\":\"\"},\"colorscale\":[[0.0,\"#0d0887\"],[0.1111111111111111,\"#46039f\"],[0.2222222222222222,\"#7201a8\"],[0.3333333333333333,\"#9c179e\"],[0.4444444444444444,\"#bd3786\"],[0.5555555555555556,\"#d8576b\"],[0.6666666666666666,\"#ed7953\"],[0.7777777777777778,\"#fb9f3a\"],[0.8888888888888888,\"#fdca26\"],[1.0,\"#f0f921\"]],\"type\":\"heatmapgl\"}],\"histogram\":[{\"marker\":{\"pattern\":{\"fillmode\":\"overlay\",\"size\":10,\"solidity\":0.2}},\"type\":\"histogram\"}],\"histogram2d\":[{\"colorbar\":{\"outlinewidth\":0,\"ticks\":\"\"},\"colorscale\":[[0.0,\"#0d0887\"],[0.1111111111111111,\"#46039f\"],[0.2222222222222222,\"#7201a8\"],[0.3333333333333333,\"#9c179e\"],[0.4444444444444444,\"#bd3786\"],[0.5555555555555556,\"#d8576b\"],[0.6666666666666666,\"#ed7953\"],[0.7777777777777778,\"#fb9f3a\"],[0.8888888888888888,\"#fdca26\"],[1.0,\"#f0f921\"]],\"type\":\"histogram2d\"}],\"histogram2dcontour\":[{\"colorbar\":{\"outlinewidth\":0,\"ticks\":\"\"},\"colorscale\":[[0.0,\"#0d0887\"],[0.1111111111111111,\"#46039f\"],[0.2222222222222222,\"#7201a8\"],[0.3333333333333333,\"#9c179e\"],[0.4444444444444444,\"#bd3786\"],[0.5555555555555556,\"#d8576b\"],[0.6666666666666666,\"#ed7953\"],[0.7777777777777778,\"#fb9f3a\"],[0.8888888888888888,\"#fdca26\"],[1.0,\"#f0f921\"]],\"type\":\"histogram2dcontour\"}],\"mesh3d\":[{\"colorbar\":{\"outlinewidth\":0,\"ticks\":\"\"},\"type\":\"mesh3d\"}],\"parcoords\":[{\"line\":{\"colorbar\":{\"outlinewidth\":0,\"ticks\":\"\"}},\"type\":\"parcoords\"}],\"pie\":[{\"automargin\":true,\"type\":\"pie\"}],\"scatter\":[{\"marker\":{\"colorbar\":{\"outlinewidth\":0,\"ticks\":\"\"}},\"type\":\"scatter\"}],\"scatter3d\":[{\"line\":{\"colorbar\":{\"outlinewidth\":0,\"ticks\":\"\"}},\"marker\":{\"colorbar\":{\"outlinewidth\":0,\"ticks\":\"\"}},\"type\":\"scatter3d\"}],\"scattercarpet\":[{\"marker\":{\"colorbar\":{\"outlinewidth\":0,\"ticks\":\"\"}},\"type\":\"scattercarpet\"}],\"scattergeo\":[{\"marker\":{\"colorbar\":{\"outlinewidth\":0,\"ticks\":\"\"}},\"type\":\"scattergeo\"}],\"scattergl\":[{\"marker\":{\"colorbar\":{\"outlinewidth\":0,\"ticks\":\"\"}},\"type\":\"scattergl\"}],\"scattermapbox\":[{\"marker\":{\"colorbar\":{\"outlinewidth\":0,\"ticks\":\"\"}},\"type\":\"scattermapbox\"}],\"scatterpolar\":[{\"marker\":{\"colorbar\":{\"outlinewidth\":0,\"ticks\":\"\"}},\"type\":\"scatterpolar\"}],\"scatterpolargl\":[{\"marker\":{\"colorbar\":{\"outlinewidth\":0,\"ticks\":\"\"}},\"type\":\"scatterpolargl\"}],\"scatterternary\":[{\"marker\":{\"colorbar\":{\"outlinewidth\":0,\"ticks\":\"\"}},\"type\":\"scatterternary\"}],\"surface\":[{\"colorbar\":{\"outlinewidth\":0,\"ticks\":\"\"},\"colorscale\":[[0.0,\"#0d0887\"],[0.1111111111111111,\"#46039f\"],[0.2222222222222222,\"#7201a8\"],[0.3333333333333333,\"#9c179e\"],[0.4444444444444444,\"#bd3786\"],[0.5555555555555556,\"#d8576b\"],[0.6666666666666666,\"#ed7953\"],[0.7777777777777778,\"#fb9f3a\"],[0.8888888888888888,\"#fdca26\"],[1.0,\"#f0f921\"]],\"type\":\"surface\"}],\"table\":[{\"cells\":{\"fill\":{\"color\":\"#EBF0F8\"},\"line\":{\"color\":\"white\"}},\"header\":{\"fill\":{\"color\":\"#C8D4E3\"},\"line\":{\"color\":\"white\"}},\"type\":\"table\"}]},\"layout\":{\"annotationdefaults\":{\"arrowcolor\":\"#2a3f5f\",\"arrowhead\":0,\"arrowwidth\":1},\"autotypenumbers\":\"strict\",\"coloraxis\":{\"colorbar\":{\"outlinewidth\":0,\"ticks\":\"\"}},\"colorscale\":{\"diverging\":[[0,\"#8e0152\"],[0.1,\"#c51b7d\"],[0.2,\"#de77ae\"],[0.3,\"#f1b6da\"],[0.4,\"#fde0ef\"],[0.5,\"#f7f7f7\"],[0.6,\"#e6f5d0\"],[0.7,\"#b8e186\"],[0.8,\"#7fbc41\"],[0.9,\"#4d9221\"],[1,\"#276419\"]],\"sequential\":[[0.0,\"#0d0887\"],[0.1111111111111111,\"#46039f\"],[0.2222222222222222,\"#7201a8\"],[0.3333333333333333,\"#9c179e\"],[0.4444444444444444,\"#bd3786\"],[0.5555555555555556,\"#d8576b\"],[0.6666666666666666,\"#ed7953\"],[0.7777777777777778,\"#fb9f3a\"],[0.8888888888888888,\"#fdca26\"],[1.0,\"#f0f921\"]],\"sequentialminus\":[[0.0,\"#0d0887\"],[0.1111111111111111,\"#46039f\"],[0.2222222222222222,\"#7201a8\"],[0.3333333333333333,\"#9c179e\"],[0.4444444444444444,\"#bd3786\"],[0.5555555555555556,\"#d8576b\"],[0.6666666666666666,\"#ed7953\"],[0.7777777777777778,\"#fb9f3a\"],[0.8888888888888888,\"#fdca26\"],[1.0,\"#f0f921\"]]},\"colorway\":[\"#636efa\",\"#EF553B\",\"#00cc96\",\"#ab63fa\",\"#FFA15A\",\"#19d3f3\",\"#FF6692\",\"#B6E880\",\"#FF97FF\",\"#FECB52\"],\"font\":{\"color\":\"#2a3f5f\"},\"geo\":{\"bgcolor\":\"white\",\"lakecolor\":\"white\",\"landcolor\":\"#E5ECF6\",\"showlakes\":true,\"showland\":true,\"subunitcolor\":\"white\"},\"hoverlabel\":{\"align\":\"left\"},\"hovermode\":\"closest\",\"mapbox\":{\"style\":\"light\"},\"paper_bgcolor\":\"white\",\"plot_bgcolor\":\"#E5ECF6\",\"polar\":{\"angularaxis\":{\"gridcolor\":\"white\",\"linecolor\":\"white\",\"ticks\":\"\"},\"bgcolor\":\"#E5ECF6\",\"radialaxis\":{\"gridcolor\":\"white\",\"linecolor\":\"white\",\"ticks\":\"\"}},\"scene\":{\"xaxis\":{\"backgroundcolor\":\"#E5ECF6\",\"gridcolor\":\"white\",\"gridwidth\":2,\"linecolor\":\"white\",\"showbackground\":true,\"ticks\":\"\",\"zerolinecolor\":\"white\"},\"yaxis\":{\"backgroundcolor\":\"#E5ECF6\",\"gridcolor\":\"white\",\"gridwidth\":2,\"linecolor\":\"white\",\"showbackground\":true,\"ticks\":\"\",\"zerolinecolor\":\"white\"},\"zaxis\":{\"backgroundcolor\":\"#E5ECF6\",\"gridcolor\":\"white\",\"gridwidth\":2,\"linecolor\":\"white\",\"showbackground\":true,\"ticks\":\"\",\"zerolinecolor\":\"white\"}},\"shapedefaults\":{\"line\":{\"color\":\"#2a3f5f\"}},\"ternary\":{\"aaxis\":{\"gridcolor\":\"white\",\"linecolor\":\"white\",\"ticks\":\"\"},\"baxis\":{\"gridcolor\":\"white\",\"linecolor\":\"white\",\"ticks\":\"\"},\"bgcolor\":\"#E5ECF6\",\"caxis\":{\"gridcolor\":\"white\",\"linecolor\":\"white\",\"ticks\":\"\"}},\"title\":{\"x\":0.05},\"xaxis\":{\"automargin\":true,\"gridcolor\":\"white\",\"linecolor\":\"white\",\"ticks\":\"\",\"title\":{\"standoff\":15},\"zerolinecolor\":\"white\",\"zerolinewidth\":2},\"yaxis\":{\"automargin\":true,\"gridcolor\":\"white\",\"linecolor\":\"white\",\"ticks\":\"\",\"title\":{\"standoff\":15},\"zerolinecolor\":\"white\",\"zerolinewidth\":2}}},\"title\":{\"text\":\"Retorno Di\\u00e1rio Acumulado - Top 5 Fundos\"},\"xaxis\":{\"anchor\":\"y\",\"domain\":[0.0,1.0],\"title\":{\"text\":\"Data\"}},\"yaxis\":{\"anchor\":\"x\",\"domain\":[0.0,1.0],\"title\":{\"text\":\"Retorno Di\\u00e1rio Acumulado (%)\"}}},                        {\"responsive\": true}                    ).then(function(){\n",
       "                            \n",
       "var gd = document.getElementById('3b186d7d-0c36-4dc7-a1df-c49233f2c6e1');\n",
       "var x = new MutationObserver(function (mutations, observer) {{\n",
       "        var display = window.getComputedStyle(gd).display;\n",
       "        if (!display || display === 'none') {{\n",
       "            console.log([gd, 'removed!']);\n",
       "            Plotly.purge(gd);\n",
       "            observer.disconnect();\n",
       "        }}\n",
       "}});\n",
       "\n",
       "// Listen for the removal of the full notebook cells\n",
       "var notebookContainer = gd.closest('#notebook-container');\n",
       "if (notebookContainer) {{\n",
       "    x.observe(notebookContainer, {childList: true});\n",
       "}}\n",
       "\n",
       "// Listen for the clearing of the current output cell\n",
       "var outputEl = gd.closest('.output');\n",
       "if (outputEl) {{\n",
       "    x.observe(outputEl, {childList: true});\n",
       "}}\n",
       "\n",
       "                        })                };                });            </script>        </div>"
      ]
     },
     "metadata": {},
     "output_type": "display_data"
    }
   ],
   "source": [
    "# Plot\n",
    "fig = px.line(df_retornos_diarios_acum, \n",
    "              x = 'date', \n",
    "              y = 'daily_return_cum', \n",
    "              color = 'fund_name', \n",
    "              title = 'Retorno Diário Acumulado - Top 5 Fundos')\n",
    "\n",
    "# Configurações do plot\n",
    "fig.update_layout({'xaxis': {'title': {'text': 'Data'}}, \n",
    "                   'yaxis': {'title': {'text': 'Retorno Diário Acumulado (%)'}},\n",
    "                   'legend': {'title': {'text': 'Fundos'}}})\n",
    "\n",
    "# Salva o gráfico interativo\n",
    "py.plot(fig, filename = 'Retornos Diários Acumulados - Top 5 Fundos', auto_open = False)\n",
    "\n",
    "# Mostra o plot\n",
    "fig.show()"
   ]
  },
  {
   "cell_type": "markdown",
   "id": "usual-strain",
   "metadata": {},
   "source": [
    "## 3.3. Correlação dos top 5 fundos"
   ]
  },
  {
   "cell_type": "code",
   "execution_count": 359,
   "id": "grave-median",
   "metadata": {},
   "outputs": [],
   "source": [
    "# Calcula a correlação entre os retornos diarios dos fundos\n",
    "corr_retornos = df_retornos_diarios.corr()"
   ]
  },
  {
   "cell_type": "code",
   "execution_count": 383,
   "id": "earlier-university",
   "metadata": {},
   "outputs": [
    {
     "data": {
      "image/png": "[encoded data removed]",
      "text/plain": [
       "<Figure size 1080x576 with 2 Axes>"
      ]
     },
     "metadata": {
      "needs_background": "light"
     },
     "output_type": "display_data"
    }
   ],
   "source": [
    "# Tamanho do plot\n",
    "plt.figure(figsize=(15,8))\n",
    "\n",
    "# Plota uma matriz de correlação\n",
    "fig = sns.heatmap(corr_retornos, \n",
    "                  cmap=\"Blues\", \n",
    "                  annot = True)\n",
    "\n",
    "# Configurações do plot\n",
    "fig.set_xlabel('Fundos',\n",
    "               fontsize = 15)\n",
    "fig.set_ylabel('Fundos',\n",
    "               fontsize = 15)\n",
    "fig.set_title('Correlação Retornos Diários - Top 5 Fundos', \n",
    "              fontsize = 15)\n",
    "\n",
    "# Mostra o plot\n",
    "plt.show()"
   ]
  },
  {
   "cell_type": "markdown",
   "id": "dutch-understanding",
   "metadata": {},
   "source": [
    "## *Logo, dentre os cinco fundos com maior retorno mensal acumulado, aqueles que adotaram estratégias parecidas foram os fundos com correlação maior que 0.8*"
   ]
  },
  {
   "cell_type": "code",
   "execution_count": null,
   "id": "universal-donor",
   "metadata": {},
   "outputs": [],
   "source": []
  }
 ],
 "metadata": {
  "kernelspec": {
   "display_name": "Python 3",
   "language": "python",
   "name": "python3"
  },
  "language_info": {
   "codemirror_mode": {
    "name": "ipython",
    "version": 3
   },
   "file_extension": ".py",
   "mimetype": "text/x-python",
   "name": "python",
   "nbconvert_exporter": "python",
   "pygments_lexer": "ipython3",
   "version": "3.6.8"
  }
 },
 "nbformat": 4,
 "nbformat_minor": 5
}
